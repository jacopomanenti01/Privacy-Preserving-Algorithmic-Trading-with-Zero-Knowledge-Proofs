{
 "cells": [
  {
   "cell_type": "markdown",
   "metadata": {},
   "source": [
    "# Install important dependencies"
   ]
  },
  {
   "cell_type": "code",
   "execution_count": 7,
   "metadata": {},
   "outputs": [],
   "source": [
    "import numpy as np\n",
    "import pandas as pd\n",
    "import matplotlib.pyplot as plt\n",
    "import matplotlib as mtl\n",
    "import math\n",
    "import yfinance as yf\n",
    "\n",
    "\n",
    "\n",
    "import pandas_ta as pa\n",
    "\n",
    "\n"
   ]
  },
  {
   "cell_type": "markdown",
   "metadata": {},
   "source": [
    "# Data"
   ]
  },
  {
   "cell_type": "markdown",
   "metadata": {},
   "source": [
    "Download weekly data for S&P500 from the beginning to september 30th 2024  as *pd.DataFrame* from yahoo finance using yfinance API."
   ]
  },
  {
   "cell_type": "code",
   "execution_count": 8,
   "metadata": {},
   "outputs": [],
   "source": [
    "# Download historical data for Apple (AAPL) over the last 5 years\n",
    "from datetime import datetime\n",
    "\n",
    "sp500 = yf.Ticker(\"^SPX\") # create a ticker symbol\n",
    "date_format = '%Y-%m-%d'\n",
    "end_date =  datetime.strptime(\"2024-09-30\", date_format)\n",
    "data = sp500.history(start =\"1900-01-01\" , end = end_date, interval = \"1wk\")\n",
    "\n"
   ]
  },
  {
   "cell_type": "code",
   "execution_count": 9,
   "metadata": {},
   "outputs": [
    {
     "data": {
      "text/html": [
       "<div>\n",
       "<style scoped>\n",
       "    .dataframe tbody tr th:only-of-type {\n",
       "        vertical-align: middle;\n",
       "    }\n",
       "\n",
       "    .dataframe tbody tr th {\n",
       "        vertical-align: top;\n",
       "    }\n",
       "\n",
       "    .dataframe thead th {\n",
       "        text-align: right;\n",
       "    }\n",
       "</style>\n",
       "<table border=\"1\" class=\"dataframe\">\n",
       "  <thead>\n",
       "    <tr style=\"text-align: right;\">\n",
       "      <th></th>\n",
       "      <th>Open</th>\n",
       "      <th>High</th>\n",
       "      <th>Low</th>\n",
       "      <th>Close</th>\n",
       "      <th>Volume</th>\n",
       "      <th>Dividends</th>\n",
       "      <th>Stock Splits</th>\n",
       "    </tr>\n",
       "    <tr>\n",
       "      <th>Date</th>\n",
       "      <th></th>\n",
       "      <th></th>\n",
       "      <th></th>\n",
       "      <th></th>\n",
       "      <th></th>\n",
       "      <th></th>\n",
       "      <th></th>\n",
       "    </tr>\n",
       "  </thead>\n",
       "  <tbody>\n",
       "    <tr>\n",
       "      <th>1927-12-26 00:00:00-05:00</th>\n",
       "      <td>17.660000</td>\n",
       "      <td>17.660000</td>\n",
       "      <td>17.660000</td>\n",
       "      <td>17.660000</td>\n",
       "      <td>0</td>\n",
       "      <td>0.0</td>\n",
       "      <td>0.0</td>\n",
       "    </tr>\n",
       "    <tr>\n",
       "      <th>1928-01-02 00:00:00-05:00</th>\n",
       "      <td>17.760000</td>\n",
       "      <td>17.760000</td>\n",
       "      <td>17.549999</td>\n",
       "      <td>17.660000</td>\n",
       "      <td>0</td>\n",
       "      <td>0.0</td>\n",
       "      <td>0.0</td>\n",
       "    </tr>\n",
       "    <tr>\n",
       "      <th>1928-01-09 00:00:00-05:00</th>\n",
       "      <td>17.500000</td>\n",
       "      <td>17.580000</td>\n",
       "      <td>17.350000</td>\n",
       "      <td>17.580000</td>\n",
       "      <td>0</td>\n",
       "      <td>0.0</td>\n",
       "      <td>0.0</td>\n",
       "    </tr>\n",
       "    <tr>\n",
       "      <th>1928-01-16 00:00:00-05:00</th>\n",
       "      <td>17.290001</td>\n",
       "      <td>17.480000</td>\n",
       "      <td>17.260000</td>\n",
       "      <td>17.480000</td>\n",
       "      <td>0</td>\n",
       "      <td>0.0</td>\n",
       "      <td>0.0</td>\n",
       "    </tr>\n",
       "    <tr>\n",
       "      <th>1928-01-23 00:00:00-05:00</th>\n",
       "      <td>17.639999</td>\n",
       "      <td>17.709999</td>\n",
       "      <td>17.520000</td>\n",
       "      <td>17.690001</td>\n",
       "      <td>0</td>\n",
       "      <td>0.0</td>\n",
       "      <td>0.0</td>\n",
       "    </tr>\n",
       "    <tr>\n",
       "      <th>...</th>\n",
       "      <td>...</td>\n",
       "      <td>...</td>\n",
       "      <td>...</td>\n",
       "      <td>...</td>\n",
       "      <td>...</td>\n",
       "      <td>...</td>\n",
       "      <td>...</td>\n",
       "    </tr>\n",
       "    <tr>\n",
       "      <th>2024-08-26 00:00:00-04:00</th>\n",
       "      <td>5639.660156</td>\n",
       "      <td>5651.620117</td>\n",
       "      <td>5560.950195</td>\n",
       "      <td>5648.399902</td>\n",
       "      <td>16042500000</td>\n",
       "      <td>0.0</td>\n",
       "      <td>0.0</td>\n",
       "    </tr>\n",
       "    <tr>\n",
       "      <th>2024-09-02 00:00:00-04:00</th>\n",
       "      <td>5623.890137</td>\n",
       "      <td>5623.890137</td>\n",
       "      <td>5402.620117</td>\n",
       "      <td>5408.419922</td>\n",
       "      <td>14688940000</td>\n",
       "      <td>0.0</td>\n",
       "      <td>0.0</td>\n",
       "    </tr>\n",
       "    <tr>\n",
       "      <th>2024-09-09 00:00:00-04:00</th>\n",
       "      <td>5442.069824</td>\n",
       "      <td>5636.270020</td>\n",
       "      <td>5406.959961</td>\n",
       "      <td>5626.020020</td>\n",
       "      <td>18669430000</td>\n",
       "      <td>0.0</td>\n",
       "      <td>0.0</td>\n",
       "    </tr>\n",
       "    <tr>\n",
       "      <th>2024-09-16 00:00:00-04:00</th>\n",
       "      <td>5615.209961</td>\n",
       "      <td>5733.569824</td>\n",
       "      <td>5604.529785</td>\n",
       "      <td>5702.549805</td>\n",
       "      <td>22463850000</td>\n",
       "      <td>0.0</td>\n",
       "      <td>0.0</td>\n",
       "    </tr>\n",
       "    <tr>\n",
       "      <th>2024-09-23 00:00:00-04:00</th>\n",
       "      <td>5711.899902</td>\n",
       "      <td>5767.370117</td>\n",
       "      <td>5698.990234</td>\n",
       "      <td>5738.169922</td>\n",
       "      <td>19316880000</td>\n",
       "      <td>0.0</td>\n",
       "      <td>0.0</td>\n",
       "    </tr>\n",
       "  </tbody>\n",
       "</table>\n",
       "<p>5048 rows × 7 columns</p>\n",
       "</div>"
      ],
      "text/plain": [
       "                                  Open         High          Low        Close  \\\n",
       "Date                                                                            \n",
       "1927-12-26 00:00:00-05:00    17.660000    17.660000    17.660000    17.660000   \n",
       "1928-01-02 00:00:00-05:00    17.760000    17.760000    17.549999    17.660000   \n",
       "1928-01-09 00:00:00-05:00    17.500000    17.580000    17.350000    17.580000   \n",
       "1928-01-16 00:00:00-05:00    17.290001    17.480000    17.260000    17.480000   \n",
       "1928-01-23 00:00:00-05:00    17.639999    17.709999    17.520000    17.690001   \n",
       "...                                ...          ...          ...          ...   \n",
       "2024-08-26 00:00:00-04:00  5639.660156  5651.620117  5560.950195  5648.399902   \n",
       "2024-09-02 00:00:00-04:00  5623.890137  5623.890137  5402.620117  5408.419922   \n",
       "2024-09-09 00:00:00-04:00  5442.069824  5636.270020  5406.959961  5626.020020   \n",
       "2024-09-16 00:00:00-04:00  5615.209961  5733.569824  5604.529785  5702.549805   \n",
       "2024-09-23 00:00:00-04:00  5711.899902  5767.370117  5698.990234  5738.169922   \n",
       "\n",
       "                                Volume  Dividends  Stock Splits  \n",
       "Date                                                             \n",
       "1927-12-26 00:00:00-05:00            0        0.0           0.0  \n",
       "1928-01-02 00:00:00-05:00            0        0.0           0.0  \n",
       "1928-01-09 00:00:00-05:00            0        0.0           0.0  \n",
       "1928-01-16 00:00:00-05:00            0        0.0           0.0  \n",
       "1928-01-23 00:00:00-05:00            0        0.0           0.0  \n",
       "...                                ...        ...           ...  \n",
       "2024-08-26 00:00:00-04:00  16042500000        0.0           0.0  \n",
       "2024-09-02 00:00:00-04:00  14688940000        0.0           0.0  \n",
       "2024-09-09 00:00:00-04:00  18669430000        0.0           0.0  \n",
       "2024-09-16 00:00:00-04:00  22463850000        0.0           0.0  \n",
       "2024-09-23 00:00:00-04:00  19316880000        0.0           0.0  \n",
       "\n",
       "[5048 rows x 7 columns]"
      ]
     },
     "execution_count": 9,
     "metadata": {},
     "output_type": "execute_result"
    }
   ],
   "source": [
    "data"
   ]
  },
  {
   "cell_type": "code",
   "execution_count": 10,
   "metadata": {},
   "outputs": [
    {
     "data": {
      "text/plain": [
       "Open            0\n",
       "High            0\n",
       "Low             0\n",
       "Close           0\n",
       "Volume          0\n",
       "Dividends       0\n",
       "Stock Splits    0\n",
       "dtype: int64"
      ]
     },
     "execution_count": 10,
     "metadata": {},
     "output_type": "execute_result"
    }
   ],
   "source": [
    "data.isna().sum()"
   ]
  },
  {
   "cell_type": "markdown",
   "metadata": {},
   "source": [
    "# Technical indicators"
   ]
  },
  {
   "cell_type": "markdown",
   "metadata": {},
   "source": [
    "drop every row where volume is 0"
   ]
  },
  {
   "cell_type": "code",
   "execution_count": null,
   "metadata": {},
   "outputs": [],
   "source": []
  },
  {
   "cell_type": "code",
   "execution_count": null,
   "metadata": {},
   "outputs": [],
   "source": [
    "print(\"ciao\")"
   ]
  }
 ],
 "metadata": {
  "kernelspec": {
   "display_name": "Python 3 (ipykernel)",
   "language": "python",
   "name": "python3"
  },
  "language_info": {
   "codemirror_mode": {
    "name": "ipython",
    "version": 3
   },
   "file_extension": ".py",
   "mimetype": "text/x-python",
   "name": "python",
   "nbconvert_exporter": "python",
   "pygments_lexer": "ipython3",
   "version": "3.11.6"
  }
 },
 "nbformat": 4,
 "nbformat_minor": 4
}
