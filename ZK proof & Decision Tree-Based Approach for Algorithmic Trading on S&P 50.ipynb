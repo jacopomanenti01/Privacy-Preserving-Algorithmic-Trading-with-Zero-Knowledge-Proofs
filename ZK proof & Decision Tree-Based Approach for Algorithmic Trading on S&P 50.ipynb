{
 "cells": [
  {
   "cell_type": "markdown",
   "metadata": {},
   "source": [
    "# Install important dependencies"
   ]
  },
  {
   "cell_type": "code",
   "execution_count": 4,
   "metadata": {},
   "outputs": [],
   "source": [
    "import numpy as np\n",
    "import pandas as pd\n",
    "import matplotlib.pyplot as plt\n",
    "import matplotlib as mtl\n",
    "import math\n",
    "import yfinance as yf\n",
    "\n"
   ]
  },
  {
   "cell_type": "markdown",
   "metadata": {},
   "source": [
    "# Data"
   ]
  },
  {
   "cell_type": "markdown",
   "metadata": {},
   "source": [
    "Download weekly data for S&P500 from the beginning to september 30th 2024  as *pd.DataFrame* from yahoo finance using yfinance API."
   ]
  },
  {
   "cell_type": "code",
   "execution_count": 37,
   "metadata": {},
   "outputs": [],
   "source": [
    "# Download historical data for Apple (AAPL) over the last 5 years\n",
    "from datetime import datetime\n",
    "\n",
    "sp500 = yf.Ticker(\"^GSPC\") # create a ticker symbol\n",
    "date_format = '%Y-%m-%d'\n",
    "end_date =  datetime.strptime(\"2024-09-30\", date_format)\n",
    "data = sp500.history(start =\"2020-01-01\" , end = end_date, interval = \"1wk\")\n",
    "\n"
   ]
  }
 ],
 "metadata": {
  "kernelspec": {
   "display_name": "Python 3",
   "language": "python",
   "name": "python3"
  },
  "language_info": {
   "codemirror_mode": {
    "name": "ipython",
    "version": 3
   },
   "file_extension": ".py",
   "mimetype": "text/x-python",
   "name": "python",
   "nbconvert_exporter": "python",
   "pygments_lexer": "ipython3",
   "version": "3.10.12"
  }
 },
 "nbformat": 4,
 "nbformat_minor": 2
}
