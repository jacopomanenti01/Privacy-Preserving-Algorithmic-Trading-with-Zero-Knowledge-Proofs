{
 "cells": [
  {
   "cell_type": "markdown",
   "metadata": {},
   "source": [
    "# Install important dependencies"
   ]
  },
  {
   "cell_type": "code",
   "execution_count": 1,
   "metadata": {},
   "outputs": [],
   "source": [
    "import numpy as np\n",
    "import pandas as pd\n",
    "import matplotlib.pyplot as plt\n",
    "import matplotlib as mtl\n",
    "import math\n",
    "import yfinance as yf\n",
    "\n",
    "\n",
    "\n",
    "import pandas_ta as pa\n",
    "\n",
    "\n"
   ]
  },
  {
   "cell_type": "markdown",
   "metadata": {},
   "source": [
    "# Data"
   ]
  },
  {
   "cell_type": "markdown",
   "metadata": {},
   "source": [
    "Download weekly data for S&P500 from the beginning to september 30th 2024  as *pd.DataFrame* from yahoo finance using yfinance API."
   ]
  },
  {
   "cell_type": "code",
   "execution_count": 11,
   "metadata": {},
   "outputs": [],
   "source": [
    "# Download historical data for Apple (AAPL) over the last 5 years\n",
    "from datetime import datetime\n",
    "\n",
    "sp500 = yf.Ticker(\"^SPX\") # create a ticker symbol\n",
    "date_format = '%Y-%m-%d'\n",
    "end_date =  datetime.strptime(\"2024-09-30\", date_format)\n",
    "data = sp500.history(start =\"1900-01-01\" , end = end_date, interval = \"1d\")\n",
    "\n"
   ]
  },
  {
   "cell_type": "code",
   "execution_count": 7,
   "metadata": {},
   "outputs": [
    {
     "data": {
      "text/html": [
       "<div>\n",
       "<style scoped>\n",
       "    .dataframe tbody tr th:only-of-type {\n",
       "        vertical-align: middle;\n",
       "    }\n",
       "\n",
       "    .dataframe tbody tr th {\n",
       "        vertical-align: top;\n",
       "    }\n",
       "\n",
       "    .dataframe thead th {\n",
       "        text-align: right;\n",
       "    }\n",
       "</style>\n",
       "<table border=\"1\" class=\"dataframe\">\n",
       "  <thead>\n",
       "    <tr style=\"text-align: right;\">\n",
       "      <th></th>\n",
       "      <th>Open</th>\n",
       "      <th>High</th>\n",
       "      <th>Low</th>\n",
       "      <th>Close</th>\n",
       "      <th>Volume</th>\n",
       "      <th>Dividends</th>\n",
       "      <th>Stock Splits</th>\n",
       "    </tr>\n",
       "    <tr>\n",
       "      <th>Date</th>\n",
       "      <th></th>\n",
       "      <th></th>\n",
       "      <th></th>\n",
       "      <th></th>\n",
       "      <th></th>\n",
       "      <th></th>\n",
       "      <th></th>\n",
       "    </tr>\n",
       "  </thead>\n",
       "  <tbody>\n",
       "    <tr>\n",
       "      <th>1927-12-26 00:00:00-05:00</th>\n",
       "      <td>17.660000</td>\n",
       "      <td>17.660000</td>\n",
       "      <td>17.660000</td>\n",
       "      <td>17.660000</td>\n",
       "      <td>0</td>\n",
       "      <td>0.0</td>\n",
       "      <td>0.0</td>\n",
       "    </tr>\n",
       "    <tr>\n",
       "      <th>1928-01-02 00:00:00-05:00</th>\n",
       "      <td>17.760000</td>\n",
       "      <td>17.760000</td>\n",
       "      <td>17.549999</td>\n",
       "      <td>17.660000</td>\n",
       "      <td>0</td>\n",
       "      <td>0.0</td>\n",
       "      <td>0.0</td>\n",
       "    </tr>\n",
       "    <tr>\n",
       "      <th>1928-01-09 00:00:00-05:00</th>\n",
       "      <td>17.500000</td>\n",
       "      <td>17.580000</td>\n",
       "      <td>17.350000</td>\n",
       "      <td>17.580000</td>\n",
       "      <td>0</td>\n",
       "      <td>0.0</td>\n",
       "      <td>0.0</td>\n",
       "    </tr>\n",
       "    <tr>\n",
       "      <th>1928-01-16 00:00:00-05:00</th>\n",
       "      <td>17.290001</td>\n",
       "      <td>17.480000</td>\n",
       "      <td>17.260000</td>\n",
       "      <td>17.480000</td>\n",
       "      <td>0</td>\n",
       "      <td>0.0</td>\n",
       "      <td>0.0</td>\n",
       "    </tr>\n",
       "    <tr>\n",
       "      <th>1928-01-23 00:00:00-05:00</th>\n",
       "      <td>17.639999</td>\n",
       "      <td>17.709999</td>\n",
       "      <td>17.520000</td>\n",
       "      <td>17.690001</td>\n",
       "      <td>0</td>\n",
       "      <td>0.0</td>\n",
       "      <td>0.0</td>\n",
       "    </tr>\n",
       "    <tr>\n",
       "      <th>...</th>\n",
       "      <td>...</td>\n",
       "      <td>...</td>\n",
       "      <td>...</td>\n",
       "      <td>...</td>\n",
       "      <td>...</td>\n",
       "      <td>...</td>\n",
       "      <td>...</td>\n",
       "    </tr>\n",
       "    <tr>\n",
       "      <th>2024-08-26 00:00:00-04:00</th>\n",
       "      <td>5639.660156</td>\n",
       "      <td>5651.620117</td>\n",
       "      <td>5560.950195</td>\n",
       "      <td>5648.399902</td>\n",
       "      <td>16042500000</td>\n",
       "      <td>0.0</td>\n",
       "      <td>0.0</td>\n",
       "    </tr>\n",
       "    <tr>\n",
       "      <th>2024-09-02 00:00:00-04:00</th>\n",
       "      <td>5623.890137</td>\n",
       "      <td>5623.890137</td>\n",
       "      <td>5402.620117</td>\n",
       "      <td>5408.419922</td>\n",
       "      <td>14688940000</td>\n",
       "      <td>0.0</td>\n",
       "      <td>0.0</td>\n",
       "    </tr>\n",
       "    <tr>\n",
       "      <th>2024-09-09 00:00:00-04:00</th>\n",
       "      <td>5442.069824</td>\n",
       "      <td>5636.270020</td>\n",
       "      <td>5406.959961</td>\n",
       "      <td>5626.020020</td>\n",
       "      <td>18669430000</td>\n",
       "      <td>0.0</td>\n",
       "      <td>0.0</td>\n",
       "    </tr>\n",
       "    <tr>\n",
       "      <th>2024-09-16 00:00:00-04:00</th>\n",
       "      <td>5615.209961</td>\n",
       "      <td>5733.569824</td>\n",
       "      <td>5604.529785</td>\n",
       "      <td>5702.549805</td>\n",
       "      <td>22463850000</td>\n",
       "      <td>0.0</td>\n",
       "      <td>0.0</td>\n",
       "    </tr>\n",
       "    <tr>\n",
       "      <th>2024-09-23 00:00:00-04:00</th>\n",
       "      <td>5711.899902</td>\n",
       "      <td>5767.370117</td>\n",
       "      <td>5698.990234</td>\n",
       "      <td>5738.169922</td>\n",
       "      <td>19316880000</td>\n",
       "      <td>0.0</td>\n",
       "      <td>0.0</td>\n",
       "    </tr>\n",
       "  </tbody>\n",
       "</table>\n",
       "<p>5048 rows × 7 columns</p>\n",
       "</div>"
      ],
      "text/plain": [
       "                                  Open         High          Low        Close  \\\n",
       "Date                                                                            \n",
       "1927-12-26 00:00:00-05:00    17.660000    17.660000    17.660000    17.660000   \n",
       "1928-01-02 00:00:00-05:00    17.760000    17.760000    17.549999    17.660000   \n",
       "1928-01-09 00:00:00-05:00    17.500000    17.580000    17.350000    17.580000   \n",
       "1928-01-16 00:00:00-05:00    17.290001    17.480000    17.260000    17.480000   \n",
       "1928-01-23 00:00:00-05:00    17.639999    17.709999    17.520000    17.690001   \n",
       "...                                ...          ...          ...          ...   \n",
       "2024-08-26 00:00:00-04:00  5639.660156  5651.620117  5560.950195  5648.399902   \n",
       "2024-09-02 00:00:00-04:00  5623.890137  5623.890137  5402.620117  5408.419922   \n",
       "2024-09-09 00:00:00-04:00  5442.069824  5636.270020  5406.959961  5626.020020   \n",
       "2024-09-16 00:00:00-04:00  5615.209961  5733.569824  5604.529785  5702.549805   \n",
       "2024-09-23 00:00:00-04:00  5711.899902  5767.370117  5698.990234  5738.169922   \n",
       "\n",
       "                                Volume  Dividends  Stock Splits  \n",
       "Date                                                             \n",
       "1927-12-26 00:00:00-05:00            0        0.0           0.0  \n",
       "1928-01-02 00:00:00-05:00            0        0.0           0.0  \n",
       "1928-01-09 00:00:00-05:00            0        0.0           0.0  \n",
       "1928-01-16 00:00:00-05:00            0        0.0           0.0  \n",
       "1928-01-23 00:00:00-05:00            0        0.0           0.0  \n",
       "...                                ...        ...           ...  \n",
       "2024-08-26 00:00:00-04:00  16042500000        0.0           0.0  \n",
       "2024-09-02 00:00:00-04:00  14688940000        0.0           0.0  \n",
       "2024-09-09 00:00:00-04:00  18669430000        0.0           0.0  \n",
       "2024-09-16 00:00:00-04:00  22463850000        0.0           0.0  \n",
       "2024-09-23 00:00:00-04:00  19316880000        0.0           0.0  \n",
       "\n",
       "[5048 rows x 7 columns]"
      ]
     },
     "execution_count": 7,
     "metadata": {},
     "output_type": "execute_result"
    }
   ],
   "source": [
    "data"
   ]
  },
  {
   "cell_type": "code",
   "execution_count": 4,
   "metadata": {},
   "outputs": [
    {
     "data": {
      "text/plain": [
       "Open            0\n",
       "High            0\n",
       "Low             0\n",
       "Close           0\n",
       "Volume          0\n",
       "Dividends       0\n",
       "Stock Splits    0\n",
       "dtype: int64"
      ]
     },
     "execution_count": 4,
     "metadata": {},
     "output_type": "execute_result"
    }
   ],
   "source": [
    "data.isna().sum()"
   ]
  },
  {
   "cell_type": "markdown",
   "metadata": {},
   "source": [
    "# Technical indicators"
   ]
  },
  {
   "cell_type": "markdown",
   "metadata": {},
   "source": [
    "drop every row where volume is 0"
   ]
  },
  {
   "cell_type": "code",
   "execution_count": 74,
   "metadata": {},
   "outputs": [
    {
     "data": {
      "text/plain": [
       "14"
      ]
     },
     "execution_count": 74,
     "metadata": {},
     "output_type": "execute_result"
    }
   ],
   "source": [
    "RSI = pa.rsi(data[\"Close\"], length=14)\n",
    "data[\"RSI\"]=RSI\n",
    "data[\"RSI\"].isna().sum()"
   ]
  },
  {
   "cell_type": "code",
   "execution_count": 75,
   "metadata": {},
   "outputs": [
    {
     "data": {
      "text/html": [
       "<div>\n",
       "<style scoped>\n",
       "    .dataframe tbody tr th:only-of-type {\n",
       "        vertical-align: middle;\n",
       "    }\n",
       "\n",
       "    .dataframe tbody tr th {\n",
       "        vertical-align: top;\n",
       "    }\n",
       "\n",
       "    .dataframe thead th {\n",
       "        text-align: right;\n",
       "    }\n",
       "</style>\n",
       "<table border=\"1\" class=\"dataframe\">\n",
       "  <thead>\n",
       "    <tr style=\"text-align: right;\">\n",
       "      <th></th>\n",
       "      <th>Open</th>\n",
       "      <th>High</th>\n",
       "      <th>Low</th>\n",
       "      <th>Close</th>\n",
       "      <th>Volume</th>\n",
       "      <th>Dividends</th>\n",
       "      <th>Stock Splits</th>\n",
       "      <th>RSI</th>\n",
       "    </tr>\n",
       "    <tr>\n",
       "      <th>Date</th>\n",
       "      <th></th>\n",
       "      <th></th>\n",
       "      <th></th>\n",
       "      <th></th>\n",
       "      <th></th>\n",
       "      <th></th>\n",
       "      <th></th>\n",
       "      <th></th>\n",
       "    </tr>\n",
       "  </thead>\n",
       "  <tbody>\n",
       "    <tr>\n",
       "      <th>1927-12-30 00:00:00-05:00</th>\n",
       "      <td>17.660000</td>\n",
       "      <td>17.660000</td>\n",
       "      <td>17.660000</td>\n",
       "      <td>17.660000</td>\n",
       "      <td>0</td>\n",
       "      <td>0.0</td>\n",
       "      <td>0.0</td>\n",
       "      <td>NaN</td>\n",
       "    </tr>\n",
       "    <tr>\n",
       "      <th>1928-01-03 00:00:00-05:00</th>\n",
       "      <td>17.760000</td>\n",
       "      <td>17.760000</td>\n",
       "      <td>17.760000</td>\n",
       "      <td>17.760000</td>\n",
       "      <td>0</td>\n",
       "      <td>0.0</td>\n",
       "      <td>0.0</td>\n",
       "      <td>NaN</td>\n",
       "    </tr>\n",
       "    <tr>\n",
       "      <th>1928-01-04 00:00:00-05:00</th>\n",
       "      <td>17.719999</td>\n",
       "      <td>17.719999</td>\n",
       "      <td>17.719999</td>\n",
       "      <td>17.719999</td>\n",
       "      <td>0</td>\n",
       "      <td>0.0</td>\n",
       "      <td>0.0</td>\n",
       "      <td>NaN</td>\n",
       "    </tr>\n",
       "    <tr>\n",
       "      <th>1928-01-05 00:00:00-05:00</th>\n",
       "      <td>17.549999</td>\n",
       "      <td>17.549999</td>\n",
       "      <td>17.549999</td>\n",
       "      <td>17.549999</td>\n",
       "      <td>0</td>\n",
       "      <td>0.0</td>\n",
       "      <td>0.0</td>\n",
       "      <td>NaN</td>\n",
       "    </tr>\n",
       "    <tr>\n",
       "      <th>1928-01-06 00:00:00-05:00</th>\n",
       "      <td>17.660000</td>\n",
       "      <td>17.660000</td>\n",
       "      <td>17.660000</td>\n",
       "      <td>17.660000</td>\n",
       "      <td>0</td>\n",
       "      <td>0.0</td>\n",
       "      <td>0.0</td>\n",
       "      <td>NaN</td>\n",
       "    </tr>\n",
       "    <tr>\n",
       "      <th>1928-01-09 00:00:00-05:00</th>\n",
       "      <td>17.500000</td>\n",
       "      <td>17.500000</td>\n",
       "      <td>17.500000</td>\n",
       "      <td>17.500000</td>\n",
       "      <td>0</td>\n",
       "      <td>0.0</td>\n",
       "      <td>0.0</td>\n",
       "      <td>NaN</td>\n",
       "    </tr>\n",
       "    <tr>\n",
       "      <th>1928-01-10 00:00:00-05:00</th>\n",
       "      <td>17.370001</td>\n",
       "      <td>17.370001</td>\n",
       "      <td>17.370001</td>\n",
       "      <td>17.370001</td>\n",
       "      <td>0</td>\n",
       "      <td>0.0</td>\n",
       "      <td>0.0</td>\n",
       "      <td>NaN</td>\n",
       "    </tr>\n",
       "    <tr>\n",
       "      <th>1928-01-11 00:00:00-05:00</th>\n",
       "      <td>17.350000</td>\n",
       "      <td>17.350000</td>\n",
       "      <td>17.350000</td>\n",
       "      <td>17.350000</td>\n",
       "      <td>0</td>\n",
       "      <td>0.0</td>\n",
       "      <td>0.0</td>\n",
       "      <td>NaN</td>\n",
       "    </tr>\n",
       "    <tr>\n",
       "      <th>1928-01-12 00:00:00-05:00</th>\n",
       "      <td>17.469999</td>\n",
       "      <td>17.469999</td>\n",
       "      <td>17.469999</td>\n",
       "      <td>17.469999</td>\n",
       "      <td>0</td>\n",
       "      <td>0.0</td>\n",
       "      <td>0.0</td>\n",
       "      <td>NaN</td>\n",
       "    </tr>\n",
       "    <tr>\n",
       "      <th>1928-01-13 00:00:00-05:00</th>\n",
       "      <td>17.580000</td>\n",
       "      <td>17.580000</td>\n",
       "      <td>17.580000</td>\n",
       "      <td>17.580000</td>\n",
       "      <td>0</td>\n",
       "      <td>0.0</td>\n",
       "      <td>0.0</td>\n",
       "      <td>NaN</td>\n",
       "    </tr>\n",
       "    <tr>\n",
       "      <th>1928-01-16 00:00:00-05:00</th>\n",
       "      <td>17.290001</td>\n",
       "      <td>17.290001</td>\n",
       "      <td>17.290001</td>\n",
       "      <td>17.290001</td>\n",
       "      <td>0</td>\n",
       "      <td>0.0</td>\n",
       "      <td>0.0</td>\n",
       "      <td>NaN</td>\n",
       "    </tr>\n",
       "    <tr>\n",
       "      <th>1928-01-17 00:00:00-05:00</th>\n",
       "      <td>17.299999</td>\n",
       "      <td>17.299999</td>\n",
       "      <td>17.299999</td>\n",
       "      <td>17.299999</td>\n",
       "      <td>0</td>\n",
       "      <td>0.0</td>\n",
       "      <td>0.0</td>\n",
       "      <td>NaN</td>\n",
       "    </tr>\n",
       "    <tr>\n",
       "      <th>1928-01-18 00:00:00-05:00</th>\n",
       "      <td>17.260000</td>\n",
       "      <td>17.260000</td>\n",
       "      <td>17.260000</td>\n",
       "      <td>17.260000</td>\n",
       "      <td>0</td>\n",
       "      <td>0.0</td>\n",
       "      <td>0.0</td>\n",
       "      <td>NaN</td>\n",
       "    </tr>\n",
       "    <tr>\n",
       "      <th>1928-01-19 00:00:00-05:00</th>\n",
       "      <td>17.379999</td>\n",
       "      <td>17.379999</td>\n",
       "      <td>17.379999</td>\n",
       "      <td>17.379999</td>\n",
       "      <td>0</td>\n",
       "      <td>0.0</td>\n",
       "      <td>0.0</td>\n",
       "      <td>NaN</td>\n",
       "    </tr>\n",
       "  </tbody>\n",
       "</table>\n",
       "</div>"
      ],
      "text/plain": [
       "                                Open       High        Low      Close  Volume  \\\n",
       "Date                                                                            \n",
       "1927-12-30 00:00:00-05:00  17.660000  17.660000  17.660000  17.660000       0   \n",
       "1928-01-03 00:00:00-05:00  17.760000  17.760000  17.760000  17.760000       0   \n",
       "1928-01-04 00:00:00-05:00  17.719999  17.719999  17.719999  17.719999       0   \n",
       "1928-01-05 00:00:00-05:00  17.549999  17.549999  17.549999  17.549999       0   \n",
       "1928-01-06 00:00:00-05:00  17.660000  17.660000  17.660000  17.660000       0   \n",
       "1928-01-09 00:00:00-05:00  17.500000  17.500000  17.500000  17.500000       0   \n",
       "1928-01-10 00:00:00-05:00  17.370001  17.370001  17.370001  17.370001       0   \n",
       "1928-01-11 00:00:00-05:00  17.350000  17.350000  17.350000  17.350000       0   \n",
       "1928-01-12 00:00:00-05:00  17.469999  17.469999  17.469999  17.469999       0   \n",
       "1928-01-13 00:00:00-05:00  17.580000  17.580000  17.580000  17.580000       0   \n",
       "1928-01-16 00:00:00-05:00  17.290001  17.290001  17.290001  17.290001       0   \n",
       "1928-01-17 00:00:00-05:00  17.299999  17.299999  17.299999  17.299999       0   \n",
       "1928-01-18 00:00:00-05:00  17.260000  17.260000  17.260000  17.260000       0   \n",
       "1928-01-19 00:00:00-05:00  17.379999  17.379999  17.379999  17.379999       0   \n",
       "\n",
       "                           Dividends  Stock Splits  RSI  \n",
       "Date                                                     \n",
       "1927-12-30 00:00:00-05:00        0.0           0.0  NaN  \n",
       "1928-01-03 00:00:00-05:00        0.0           0.0  NaN  \n",
       "1928-01-04 00:00:00-05:00        0.0           0.0  NaN  \n",
       "1928-01-05 00:00:00-05:00        0.0           0.0  NaN  \n",
       "1928-01-06 00:00:00-05:00        0.0           0.0  NaN  \n",
       "1928-01-09 00:00:00-05:00        0.0           0.0  NaN  \n",
       "1928-01-10 00:00:00-05:00        0.0           0.0  NaN  \n",
       "1928-01-11 00:00:00-05:00        0.0           0.0  NaN  \n",
       "1928-01-12 00:00:00-05:00        0.0           0.0  NaN  \n",
       "1928-01-13 00:00:00-05:00        0.0           0.0  NaN  \n",
       "1928-01-16 00:00:00-05:00        0.0           0.0  NaN  \n",
       "1928-01-17 00:00:00-05:00        0.0           0.0  NaN  \n",
       "1928-01-18 00:00:00-05:00        0.0           0.0  NaN  \n",
       "1928-01-19 00:00:00-05:00        0.0           0.0  NaN  "
      ]
     },
     "execution_count": 75,
     "metadata": {},
     "output_type": "execute_result"
    }
   ],
   "source": [
    "mask = data[\"RSI\"].isna()\n",
    "data.loc[mask]"
   ]
  },
  {
   "cell_type": "code",
   "execution_count": 76,
   "metadata": {},
   "outputs": [
    {
     "data": {
      "text/plain": [
       "Open            0\n",
       "High            0\n",
       "Low             0\n",
       "Close           0\n",
       "Volume          0\n",
       "Dividends       0\n",
       "Stock Splits    0\n",
       "RSI             0\n",
       "dtype: int64"
      ]
     },
     "execution_count": 76,
     "metadata": {},
     "output_type": "execute_result"
    }
   ],
   "source": [
    "data.dropna(axis = 0, how = \"any\", inplace=True)\n",
    "data.isna().sum()"
   ]
  },
  {
   "cell_type": "markdown",
   "metadata": {},
   "source": [
    "# Buy/Sell points"
   ]
  },
  {
   "cell_type": "code",
   "execution_count": 89,
   "metadata": {},
   "outputs": [],
   "source": [
    "def signals(x):\n",
    "    if x>=70:\n",
    "        return 1\n",
    "    elif x<=30:\n",
    "        return -1\n",
    "    else:\n",
    "        return 0 "
   ]
  },
  {
   "cell_type": "code",
   "execution_count": 90,
   "metadata": {},
   "outputs": [],
   "source": [
    "total_signals = [0]*len(data)\n",
    "\n",
    "data[\"backtest\"] = data[\"RSI\"].apply(signals)\n",
    "\n"
   ]
  },
  {
   "cell_type": "code",
   "execution_count": 91,
   "metadata": {},
   "outputs": [
    {
     "data": {
      "text/plain": [
       "backtest\n",
       " 0    20838\n",
       " 1     2556\n",
       "-1      894\n",
       "Name: count, dtype: int64"
      ]
     },
     "execution_count": 91,
     "metadata": {},
     "output_type": "execute_result"
    }
   ],
   "source": [
    "data[\"backtest\"].value_counts()"
   ]
  },
  {
   "cell_type": "code",
   "execution_count": 92,
   "metadata": {},
   "outputs": [
    {
     "data": {
      "text/plain": [
       "Date  backtest\n",
       "2017   1           50\n",
       "2018   0          219\n",
       "       1           19\n",
       "      -1           13\n",
       "2019   0          222\n",
       "       1           28\n",
       "      -1            2\n",
       "2020   0          227\n",
       "       1           20\n",
       "      -1            6\n",
       "2021   0          238\n",
       "       1           14\n",
       "2022   0          239\n",
       "      -1            9\n",
       "       1            3\n",
       "2023   0          218\n",
       "       1           30\n",
       "      -1            2\n",
       "2024   0          158\n",
       "       1           29\n",
       "Name: count, dtype: int64"
      ]
     },
     "execution_count": 92,
     "metadata": {},
     "output_type": "execute_result"
    }
   ],
   "source": [
    "\n",
    "data_grouped = data.groupby(data.index.map(lambda x: x.year))\n",
    "data_grouped[\"backtest\"].value_counts().tail(20)"
   ]
  },
  {
   "cell_type": "markdown",
   "metadata": {},
   "source": [
    "# Backtest"
   ]
  },
  {
   "cell_type": "code",
   "execution_count": 12,
   "metadata": {},
   "outputs": [],
   "source": [
    "from backtesting import Backtest\n",
    "from myBacktest import FirstStrategy\n",
    "\n",
    "\n"
   ]
  },
  {
   "cell_type": "code",
   "execution_count": 13,
   "metadata": {},
   "outputs": [
    {
     "name": "stderr",
     "output_type": "stream",
     "text": [
      "/tmp/ipykernel_120396/2275551695.py:1: UserWarning: Some prices are larger than initial cash value. Note that fractional trading is not supported. If you want to trade Bitcoin, increase initial cash, or trade μBTC or satoshis instead (GH-134).\n",
      "  ts = Backtest(data, FirstStrategy, cash = 1000, commission=.002,  )\n"
     ]
    },
    {
     "name": "stdout",
     "output_type": "stream",
     "text": [
      "Start                     1927-12-30 00:00...\n",
      "End                       2024-09-27 00:00...\n",
      "Duration                  35335 days 23:00:00\n",
      "Exposure Time [%]                   34.026006\n",
      "Equity Final [$]                  3606.735333\n",
      "Equity Peak [$]                     4620.3575\n",
      "Return [%]                         260.673533\n",
      "Buy & Hold Return [%]            32392.468695\n",
      "Return (Ann.) [%]                    1.339091\n",
      "Volatility (Ann.) [%]                9.961976\n",
      "Sharpe Ratio                          0.13442\n",
      "Sortino Ratio                         0.19231\n",
      "Calmar Ratio                         0.025395\n",
      "Max. Drawdown [%]                  -52.730116\n",
      "Avg. Drawdown [%]                   -3.439378\n",
      "Max. Drawdown Duration     8778 days 00:00:00\n",
      "Avg. Drawdown Duration      279 days 00:00:00\n",
      "# Trades                                  357\n",
      "Win Rate [%]                        78.711485\n",
      "Best Trade [%]                   10012.513475\n",
      "Worst Trade [%]                    -16.971385\n",
      "Avg. Trade [%]                     115.569594\n",
      "Max. Trade Duration         139 days 00:00:00\n",
      "Avg. Trade Duration          33 days 00:00:00\n",
      "Profit Factor                      721.782213\n",
      "Expectancy [%]                    1138.438333\n",
      "SQN                                  8.812142\n",
      "Kelly Criterion                      0.785935\n",
      "_strategy                       FirstStrategy\n",
      "_equity_curve                             ...\n",
      "_trades                        Size  Entry...\n",
      "dtype: object\n"
     ]
    }
   ],
   "source": [
    "\n",
    "ts = Backtest(data, FirstStrategy, cash = 1000, commission=.002,  )\n",
    "# trade_on_close = True and look bias\n",
    "\n",
    "stats = ts.run()\n",
    "\n",
    "print(stats)\n",
    "\n"
   ]
  },
  {
   "cell_type": "code",
   "execution_count": 14,
   "metadata": {},
   "outputs": [
    {
     "name": "stderr",
     "output_type": "stream",
     "text": [
      "/home/jacopomanenti/.local/lib/python3.10/site-packages/backtesting/_plotting.py:122: UserWarning: Data contains too many candlesticks to plot; downsampling to '1W'. See `Backtest.plot(resample=...)`\n",
      "  warnings.warn(f\"Data contains too many candlesticks to plot; downsampling to {freq!r}. \"\n",
      "/home/jacopomanenti/.local/lib/python3.10/site-packages/backtesting/_plotting.py:147: FutureWarning: Series.view is deprecated and will be removed in a future version. Use ``astype`` as an alternative to change the dtype.\n",
      "  mean_time = int(bars.loc[s.index].view(int).mean())\n",
      "/home/jacopomanenti/.local/lib/python3.10/site-packages/backtesting/_plotting.py:455: FutureWarning: 'M' is deprecated and will be removed in a future version, please use 'ME' instead.\n",
      "  df2 = (df.assign(_width=1).set_index('datetime')\n"
     ]
    },
    {
     "data": {
      "text/html": [
       "<div style=\"display: table;\"><div style=\"display: table-row;\"><div style=\"display: table-cell;\"><b title=\"bokeh.models.plots.GridPlot\">GridPlot</b>(</div><div style=\"display: table-cell;\">id&nbsp;=&nbsp;'p2157', <span id=\"p2186\" style=\"cursor: pointer;\">&hellip;)</span></div></div><div class=\"p2185\" style=\"display: none;\"><div style=\"display: table-cell;\"></div><div style=\"display: table-cell;\">align&nbsp;=&nbsp;'auto',</div></div><div class=\"p2185\" style=\"display: none;\"><div style=\"display: table-cell;\"></div><div style=\"display: table-cell;\">aspect_ratio&nbsp;=&nbsp;None,</div></div><div class=\"p2185\" style=\"display: none;\"><div style=\"display: table-cell;\"></div><div style=\"display: table-cell;\">children&nbsp;=&nbsp;[(figure(id='p1838', ...), 0, 0), (figure(id='p1937', ...), 1, 0), (figure(id='p1792', ...), 2, 0), (figure(id='p1994', ...), 3, 0), (figure(id='p2091', ...), 4, 0)],</div></div><div class=\"p2185\" style=\"display: none;\"><div style=\"display: table-cell;\"></div><div style=\"display: table-cell;\">cols&nbsp;=&nbsp;None,</div></div><div class=\"p2185\" style=\"display: none;\"><div style=\"display: table-cell;\"></div><div style=\"display: table-cell;\">context_menu&nbsp;=&nbsp;None,</div></div><div class=\"p2185\" style=\"display: none;\"><div style=\"display: table-cell;\"></div><div style=\"display: table-cell;\">css_classes&nbsp;=&nbsp;[],</div></div><div class=\"p2185\" style=\"display: none;\"><div style=\"display: table-cell;\"></div><div style=\"display: table-cell;\">css_variables&nbsp;=&nbsp;{},</div></div><div class=\"p2185\" style=\"display: none;\"><div style=\"display: table-cell;\"></div><div style=\"display: table-cell;\">disabled&nbsp;=&nbsp;False,</div></div><div class=\"p2185\" style=\"display: none;\"><div style=\"display: table-cell;\"></div><div style=\"display: table-cell;\">elements&nbsp;=&nbsp;[],</div></div><div class=\"p2185\" style=\"display: none;\"><div style=\"display: table-cell;\"></div><div style=\"display: table-cell;\">flow_mode&nbsp;=&nbsp;'block',</div></div><div class=\"p2185\" style=\"display: none;\"><div style=\"display: table-cell;\"></div><div style=\"display: table-cell;\">height&nbsp;=&nbsp;None,</div></div><div class=\"p2185\" style=\"display: none;\"><div style=\"display: table-cell;\"></div><div style=\"display: table-cell;\">height_policy&nbsp;=&nbsp;'auto',</div></div><div class=\"p2185\" style=\"display: none;\"><div style=\"display: table-cell;\"></div><div style=\"display: table-cell;\">js_event_callbacks&nbsp;=&nbsp;{},</div></div><div class=\"p2185\" style=\"display: none;\"><div style=\"display: table-cell;\"></div><div style=\"display: table-cell;\">js_property_callbacks&nbsp;=&nbsp;{},</div></div><div class=\"p2185\" style=\"display: none;\"><div style=\"display: table-cell;\"></div><div style=\"display: table-cell;\">margin&nbsp;=&nbsp;None,</div></div><div class=\"p2185\" style=\"display: none;\"><div style=\"display: table-cell;\"></div><div style=\"display: table-cell;\">max_height&nbsp;=&nbsp;None,</div></div><div class=\"p2185\" style=\"display: none;\"><div style=\"display: table-cell;\"></div><div style=\"display: table-cell;\">max_width&nbsp;=&nbsp;None,</div></div><div class=\"p2185\" style=\"display: none;\"><div style=\"display: table-cell;\"></div><div style=\"display: table-cell;\">min_height&nbsp;=&nbsp;None,</div></div><div class=\"p2185\" style=\"display: none;\"><div style=\"display: table-cell;\"></div><div style=\"display: table-cell;\">min_width&nbsp;=&nbsp;None,</div></div><div class=\"p2185\" style=\"display: none;\"><div style=\"display: table-cell;\"></div><div style=\"display: table-cell;\">name&nbsp;=&nbsp;None,</div></div><div class=\"p2185\" style=\"display: none;\"><div style=\"display: table-cell;\"></div><div style=\"display: table-cell;\">resizable&nbsp;=&nbsp;False,</div></div><div class=\"p2185\" style=\"display: none;\"><div style=\"display: table-cell;\"></div><div style=\"display: table-cell;\">rows&nbsp;=&nbsp;None,</div></div><div class=\"p2185\" style=\"display: none;\"><div style=\"display: table-cell;\"></div><div style=\"display: table-cell;\">sizing_mode&nbsp;=&nbsp;'stretch_width',</div></div><div class=\"p2185\" style=\"display: none;\"><div style=\"display: table-cell;\"></div><div style=\"display: table-cell;\">spacing&nbsp;=&nbsp;0,</div></div><div class=\"p2185\" style=\"display: none;\"><div style=\"display: table-cell;\"></div><div style=\"display: table-cell;\">styles&nbsp;=&nbsp;{},</div></div><div class=\"p2185\" style=\"display: none;\"><div style=\"display: table-cell;\"></div><div style=\"display: table-cell;\">stylesheets&nbsp;=&nbsp;[],</div></div><div class=\"p2185\" style=\"display: none;\"><div style=\"display: table-cell;\"></div><div style=\"display: table-cell;\">subscribed_events&nbsp;=&nbsp;PropertyValueSet(),</div></div><div class=\"p2185\" style=\"display: none;\"><div style=\"display: table-cell;\"></div><div style=\"display: table-cell;\">syncable&nbsp;=&nbsp;True,</div></div><div class=\"p2185\" style=\"display: none;\"><div style=\"display: table-cell;\"></div><div style=\"display: table-cell;\">tags&nbsp;=&nbsp;[],</div></div><div class=\"p2185\" style=\"display: none;\"><div style=\"display: table-cell;\"></div><div style=\"display: table-cell;\">toolbar&nbsp;=&nbsp;Toolbar(id='p2156', ...),</div></div><div class=\"p2185\" style=\"display: none;\"><div style=\"display: table-cell;\"></div><div style=\"display: table-cell;\">toolbar_location&nbsp;=&nbsp;'right',</div></div><div class=\"p2185\" style=\"display: none;\"><div style=\"display: table-cell;\"></div><div style=\"display: table-cell;\">visible&nbsp;=&nbsp;True,</div></div><div class=\"p2185\" style=\"display: none;\"><div style=\"display: table-cell;\"></div><div style=\"display: table-cell;\">width&nbsp;=&nbsp;None,</div></div><div class=\"p2185\" style=\"display: none;\"><div style=\"display: table-cell;\"></div><div style=\"display: table-cell;\">width_policy&nbsp;=&nbsp;'auto')</div></div></div>\n",
       "<script>\n",
       "(function() {\n",
       "  let expanded = false;\n",
       "  const ellipsis = document.getElementById(\"p2186\");\n",
       "  ellipsis.addEventListener(\"click\", function() {\n",
       "    const rows = document.getElementsByClassName(\"p2185\");\n",
       "    for (let i = 0; i < rows.length; i++) {\n",
       "      const el = rows[i];\n",
       "      el.style.display = expanded ? \"none\" : \"table-row\";\n",
       "    }\n",
       "    ellipsis.innerHTML = expanded ? \"&hellip;)\" : \"&lsaquo;&lsaquo;&lsaquo;\";\n",
       "    expanded = !expanded;\n",
       "  });\n",
       "})();\n",
       "</script>\n"
      ],
      "text/plain": [
       "GridPlot(id='p2157', ...)"
      ]
     },
     "execution_count": 14,
     "metadata": {},
     "output_type": "execute_result"
    },
    {
     "name": "stderr",
     "output_type": "stream",
     "text": [
      "WARNING: You don't seem to have any mimeinfo.cache files.\n",
      "Try running the update-desktop-database command. If you\n",
      "don't have this command you should install the\n",
      "desktop-file-utils package. This package is available from\n",
      "http://freedesktop.org/wiki/Software/desktop-file-utils/\n",
      "No applications found for mimetype: text/html\n",
      "./bin/xdg-open: 882: x-www-browser: not found\n",
      "/bin/xdg-open: 882: firefox: not found\n",
      "/bin/xdg-open: 882: iceweasel: not found\n",
      "/bin/xdg-open: 882: seamonkey: not found\n",
      "/bin/xdg-open: 882: mozilla: not found\n",
      "/bin/xdg-open: 882: epiphany: not found\n",
      "/bin/xdg-open: 882: konqueror: not found\n",
      "/bin/xdg-open: 882: chromium: not found\n",
      "/bin/xdg-open: 882: chromium-browser: not found\n",
      "/bin/xdg-open: 882: google-chrome: not found\n",
      "/bin/xdg-open: 882: www-browser: not found\n",
      "/bin/xdg-open: 882: links2: not found\n",
      "/bin/xdg-open: 882: elinks: not found\n",
      "/bin/xdg-open: 882: links: not found\n",
      "/bin/xdg-open: 882: lynx: not found\n",
      "/bin/xdg-open: 882: w3m: not found\n",
      "xdg-open: no method available for opening 'file:///home/jacopomanenti/algo/Privacy-Preserving-Algorithmic-Trading-with-Zero-Knowledge-Proofs/FirstStrategy.html'\n"
     ]
    }
   ],
   "source": [
    "ts.plot()"
   ]
  }
 ],
 "metadata": {
  "kernelspec": {
   "display_name": "Python 3",
   "language": "python",
   "name": "python3"
  },
  "language_info": {
   "codemirror_mode": {
    "name": "ipython",
    "version": 3
   },
   "file_extension": ".py",
   "mimetype": "text/x-python",
   "name": "python",
   "nbconvert_exporter": "python",
   "pygments_lexer": "ipython3",
   "version": "3.10.12"
  }
 },
 "nbformat": 4,
 "nbformat_minor": 4
}
